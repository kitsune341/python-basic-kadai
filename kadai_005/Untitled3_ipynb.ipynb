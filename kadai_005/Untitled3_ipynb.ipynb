{
  "nbformat": 4,
  "nbformat_minor": 0,
  "metadata": {
    "colab": {
      "provenance": []
    },
    "kernelspec": {
      "name": "python3",
      "display_name": "Python 3"
    },
    "language_info": {
      "name": "python"
    }
  },
  "cells": [
    {
      "cell_type": "code",
      "execution_count": null,
      "metadata": {
        "colab": {
          "base_uri": "https://localhost:8080/"
        },
        "id": "N5GEVVyRp1V1",
        "outputId": "34c991cb-d210-4c29-d581-a7083a6a6030"
      },
      "outputs": [
        {
          "output_type": "stream",
          "name": "stdout",
          "text": [
            "4\n"
          ]
        }
      ],
      "source": [
        "print(1+3)"
      ]
    },
    {
      "cell_type": "code",
      "source": [
        "up_side=10\n",
        "top_side=20\n",
        "height=5\n",
        "trapezoid=((up_side+top_side)*height/2)\n",
        "print(str(trapezoid)+\"cm²\")"
      ],
      "metadata": {
        "colab": {
          "base_uri": "https://localhost:8080/"
        },
        "id": "CTqklY9xqAvN",
        "outputId": "dd40bd7f-8f82-4c65-c056-8072efa8fc85"
      },
      "execution_count": null,
      "outputs": [
        {
          "output_type": "stream",
          "name": "stdout",
          "text": [
            "75.0cm²\n"
          ]
        }
      ]
    },
    {
      "cell_type": "code",
      "source": [],
      "metadata": {
        "id": "XlD3PYmDqgln"
      },
      "execution_count": null,
      "outputs": []
    }
  ]
}