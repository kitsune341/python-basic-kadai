{
 "cells": [
  {
   "cell_type": "code",
   "execution_count": 56,
   "metadata": {
    "colab": {
     "base_uri": "https://localhost:8080/"
    },
    "id": "lb9NfPd1A5Ha",
    "outputId": "6b2e9a77-8e93-4d06-d221-6cbd2183ef78"
   },
   "outputs": [
    {
     "name": "stdout",
     "output_type": "stream",
     "text": [
      "31\n"
     ]
    }
   ],
   "source": [
    "# 変数varに仮の値を代入する\n",
    "var = 31\n",
    "\n",
    "if (var%3)==0:\n",
    "   print(\"Fizz\")\n",
    "if (var%5)==0:\n",
    "   print(\"Buzz\")\n",
    "if (var%15)==0:\n",
    "   print(\"FizzBuzz\")\n",
    "if (var%3)!=0 and (var%5)!=0:\n",
    "   print(var)"
   ]
  }
 ],
 "metadata": {
  "colab": {
   "provenance": [],
   "toc_visible": true
  },
  "kernelspec": {
   "display_name": "Python 3",
   "name": "python3"
  },
  "language_info": {
   "name": "python"
  }
 },
 "nbformat": 4,
 "nbformat_minor": 0
}
