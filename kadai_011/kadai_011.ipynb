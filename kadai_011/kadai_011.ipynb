{
 "cells": [
  {
   "cell_type": "code",
   "execution_count": null,
   "metadata": {
    "colab": {
     "base_uri": "https://localhost:8080/"
    },
    "id": "mixf1BR4R5Wa",
    "outputId": "4608a505-5560-479c-b482-edb14e04e707"
   },
   "outputs": [
    {
     "name": "stdout",
     "output_type": "stream",
     "text": [
      "水\n",
      "金\n",
      "地\n",
      "火\n",
      "木\n",
      "土\n",
      "天\n",
      "海\n",
      "冥\n",
      "水\n",
      "金\n",
      "地\n",
      "火\n",
      "木\n",
      "土\n",
      "天\n",
      "海\n",
      "冥\n"
     ]
    }
   ],
   "source": [
    "array = [\"水\",\"金\",\"地\",\"火\",\"木\",\"土\",\"天\",\"海\",\"冥\"]\n",
    "for day in array:\n",
    "    print(day)\n",
    "\n",
    "\n",
    "array = [\"水\",\"金\",\"地\",\"火\",\"木\",\"土\",\"天\",\"海\",\"冥\"]\n",
    "index = 0\n",
    "while index < 9:\n",
    "    print(array[index])\n",
    "    index += 1"
   ]
  },
  {
   "cell_type": "code",
   "execution_count": null,
   "metadata": {
    "id": "0_1LjzGfR5Ym"
   },
   "outputs": [],
   "source": []
  }
 ],
 "metadata": {
  "colab": {
   "provenance": []
  },
  "kernelspec": {
   "display_name": "Python 3",
   "name": "python3"
  },
  "language_info": {
   "name": "python"
  }
 },
 "nbformat": 4,
 "nbformat_minor": 0
}
