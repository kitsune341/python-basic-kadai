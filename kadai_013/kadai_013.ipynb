{
  "nbformat": 4,
  "nbformat_minor": 0,
  "metadata": {
    "colab": {
      "provenance": []
    },
    "kernelspec": {
      "name": "python3",
      "display_name": "Python 3"
    },
    "language_info": {
      "name": "python"
    }
  },
  "cells": [
    {
      "cell_type": "code",
      "execution_count": 13,
      "metadata": {
        "colab": {
          "base_uri": "https://localhost:8080/"
        },
        "id": "2GIrInxJT9u0",
        "outputId": "482147f6-c586-4d3e-969c-6bc08cd5c089"
      },
      "outputs": [
        {
          "output_type": "stream",
          "name": "stdout",
          "text": [
            "1回目の結果は6です。\n",
            "2回目の結果は20です。\n",
            "２０が出たので終了します。\n"
          ]
        }
      ],
      "source": [
        "#ランダムな整数を利用するため、記述が必要です。\n",
        "import random\n",
        "import builtins  # 組み込み関数を使うため\n",
        "\n",
        "# print関数が上書きされていた場合に復元\n",
        "print = builtins.print\n",
        "\n",
        "for i in range(1, 11):\n",
        "    #変数numに1~20までのランダムな整数を代入する\n",
        "    num = random.randint(1,20)\n",
        "\n",
        "    print(f\"{i}回目の結果は{num}です。\")\n",
        "    if num == 20:\n",
        "        print(\"２０が出たので終了します。\")\n",
        "        break"
      ]
    },
    {
      "cell_type": "code",
      "source": [
        "for i in range(1, 11):\n",
        "    # ループ変数iの値が奇数（2で割った余りが1）であれば、値を出力せずにcontinue文で次のループに進む\n",
        "    if i % 2 == 1:\n",
        "        continue\n",
        "\n",
        "    print(i)\n"
      ],
      "metadata": {
        "colab": {
          "base_uri": "https://localhost:8080/"
        },
        "id": "cf9n-3yvbDI2",
        "outputId": "ce2d35d4-4f83-4476-dd68-f8fed4e53984"
      },
      "execution_count": 14,
      "outputs": [
        {
          "output_type": "stream",
          "name": "stdout",
          "text": [
            "2\n",
            "4\n",
            "6\n",
            "8\n",
            "10\n"
          ]
        }
      ]
    },
    {
      "cell_type": "code",
      "source": [
        "for i in range(1,11):\n",
        "    if i % 2 == 1:\n",
        "        continue\n",
        "    print(i)"
      ],
      "metadata": {
        "colab": {
          "base_uri": "https://localhost:8080/"
        },
        "id": "55giy73-bUhy",
        "outputId": "285c4f3c-8a57-4957-e92c-23b7276481d9"
      },
      "execution_count": 20,
      "outputs": [
        {
          "output_type": "stream",
          "name": "stdout",
          "text": [
            "2\n",
            "4\n",
            "6\n",
            "8\n",
            "10\n"
          ]
        }
      ]
    },
    {
      "cell_type": "code",
      "source": [
        "#ランダムな整数を利用するため、記述が必要です。\n",
        "import random\n",
        "\n",
        "# 変数numに0~4までのランダムな整数を代入する\n",
        "num = random.randint(0, 4)\n",
        "\n",
        "# 変数numの最初の値を出力する（確認用）\n",
        "print(f\"最初の値は{num}です。\")\n",
        "\n",
        "# 変数numの値が0以外である間、変数numの値を出力し続ける\n",
        "while num != 0:\n",
        "    # 変数numに0~4までのランダムな整数を代入する\n",
        "    num = random.randint(0, 4)\n",
        "\n",
        "    # 次の条件式で比較される、変数numの現在の値を出力する\n",
        "    print(f\"現在の値は{num}です。\")\n"
      ],
      "metadata": {
        "colab": {
          "base_uri": "https://localhost:8080/"
        },
        "id": "_PIuwW4xeE1F",
        "outputId": "ce999db5-34bd-409c-de4d-fea8ab8bfb8d"
      },
      "execution_count": 21,
      "outputs": [
        {
          "output_type": "stream",
          "name": "stdout",
          "text": [
            "最初の値は4です。\n",
            "現在の値は3です。\n",
            "現在の値は3です。\n",
            "現在の値は2です。\n",
            "現在の値は0です。\n"
          ]
        }
      ]
    },
    {
      "cell_type": "code",
      "source": [
        "import random\n",
        "num = random.randint(0, 4)\n",
        "print(num)\n",
        "\n",
        "while num != 0:\n",
        "  num = random.randint(0, 4)\n",
        "  print(num)"
      ],
      "metadata": {
        "colab": {
          "base_uri": "https://localhost:8080/"
        },
        "id": "cPjea3-jeYzu",
        "outputId": "7eea8fe9-d424-46e8-e338-2c13f0f595b3"
      },
      "execution_count": 41,
      "outputs": [
        {
          "output_type": "stream",
          "name": "stdout",
          "text": [
            "2\n",
            "3\n",
            "2\n",
            "0\n"
          ]
        }
      ]
    },
    {
      "cell_type": "code",
      "source": [
        "#ランダムな整数を利用するため、記述が必要です。\n",
        "import random\n",
        "\n",
        "# 変数numに0~4までのランダムな整数を代入する\n",
        "num = random.randint(0, 4)\n",
        "\n",
        "# カウンタ変数を用意する\n",
        "i = 1\n",
        "\n",
        "# 変数numの最初の値を出力する（確認用）\n",
        "print(f\"最初の値は{num}です。\")\n",
        "\n",
        "# 変数numの値が0以外である間、変数numの値を出力し続ける\n",
        "while num != 0:\n",
        "    # 変数numに0~4までのランダムな整数を代入する\n",
        "    num = random.randint(0, 4)\n",
        "\n",
        "    # カウンタ変数iの値が5であれば、break文で繰り返し処理を強制終了する\n",
        "    if i == 5:\n",
        "        print(\"5回目なので繰り返し処理を強制終了します。\")\n",
        "        break\n",
        "\n",
        "    # 次の条件式で比較される、変数numの現在の値を出力する\n",
        "    print(f\"現在の値は{num}です。\")\n",
        "    #　カウンタ変数のの値を1増やす\n",
        "    i = i + 1"
      ],
      "metadata": {
        "colab": {
          "base_uri": "https://localhost:8080/"
        },
        "id": "7v6uJ69whWdk",
        "outputId": "f5352536-710e-4c5b-c3fe-34d7f8695ed3"
      },
      "execution_count": 42,
      "outputs": [
        {
          "output_type": "stream",
          "name": "stdout",
          "text": [
            "最初の値は1です。\n",
            "現在の値は2です。\n",
            "現在の値は0です。\n"
          ]
        }
      ]
    },
    {
      "cell_type": "code",
      "source": [
        "#ランダムな整数を利用するため、記述が必要です。\n",
        "import random\n",
        "\n",
        "# 変数numに0~4までのランダムな整数を代入する\n",
        "num = random.randint(0, 4)\n",
        "\n",
        "# 変数numの最初の値を出力する（確認用）\n",
        "print(f\"最初の値は{num}です。\")"
      ],
      "metadata": {
        "id": "iyU6yrJmiH0P"
      },
      "execution_count": null,
      "outputs": []
    },
    {
      "cell_type": "code",
      "source": [
        "#ランダムな整数を利用するため、記述が必要です。\n",
        "import random\n",
        "\n",
        "# 変数numに0~4までのランダムな整数を代入する\n",
        "num = random.randint(0, 4)\n",
        "\n",
        "# 変数numの最初の値を出力する（確認用）\n",
        "print(f\"最初の値は{num}です。\")\n",
        "\n",
        "# 変数numの値が0以外である間、変数numの値を出力し続ける\n",
        "while num != 0:\n",
        "    # 変数numに0~4までのランダムな整数を代入する\n",
        "    num = random.randint(0, 4)\n",
        "\n",
        "    # 次の条件式で比較される、変数numの現在の値を出力する\n",
        "    print(f\"現在の値は{num}です。\")"
      ],
      "metadata": {
        "colab": {
          "base_uri": "https://localhost:8080/"
        },
        "id": "6DhFYcgRj_E2",
        "outputId": "33dd9a81-c207-49a2-d413-ccde7b11e65b"
      },
      "execution_count": 43,
      "outputs": [
        {
          "output_type": "stream",
          "name": "stdout",
          "text": [
            "最初の値は2です。\n",
            "現在の値は0です。\n"
          ]
        }
      ]
    },
    {
      "cell_type": "code",
      "source": [
        "#ランダムな整数を利用するため、記述が必要です。\n",
        "import random\n",
        "\n",
        "# 変数numに0~4までのランダムな整数を代入する\n",
        "num = random.randint(0, 4)\n",
        "\n",
        "# カウンタ変数を用意する\n",
        "i = 1\n",
        "\n",
        "# 変数numの最初の値を出力する（確認用）\n",
        "print(f\"最初の値は{num}です。\")\n",
        "\n",
        "# 変数numの値が0以外である間、変数numの値を出力し続ける\n",
        "while num != 0:\n",
        "    # 変数numに0~4までのランダムな整数を代入する\n",
        "    num = random.randint(0, 4)\n",
        "\n",
        "    # カウンタ変数iの値が5であれば、break文で繰り返し処理を強制終了する\n",
        "    if i == 5:\n",
        "        print(\"5回目なので繰り返し処理を強制終了します。\")\n",
        "        break\n",
        "\n",
        "    # 次の条件式で比較される、変数numの現在の値を出力する\n",
        "    print(f\"現在の値は{num}です。\")\n",
        "    #　カウンタ変数のの値を1増やす\n",
        "    i = i + 1"
      ],
      "metadata": {
        "colab": {
          "base_uri": "https://localhost:8080/"
        },
        "id": "c90uQnWHkIER",
        "outputId": "b58e0d19-86a0-4a9d-cdb2-a572cf677f8d"
      },
      "execution_count": 44,
      "outputs": [
        {
          "output_type": "stream",
          "name": "stdout",
          "text": [
            "最初の値は1です。\n",
            "現在の値は4です。\n",
            "現在の値は0です。\n"
          ]
        }
      ]
    },
    {
      "cell_type": "code",
      "source": [
        "import random\n",
        "number = random.randint(0,4)\n",
        "i = 1\n",
        "\n",
        "print(f\"最初の値は{number}です。\")\n",
        "\n",
        "while number != 0:\n",
        "    number = random.randint(0,4)\n",
        "\n",
        "    if i == 5:\n",
        "        print(\"5回目なので処理を終了します\")\n",
        "        break\n",
        "    print(number)\n",
        "    i = i + 1\n"
      ],
      "metadata": {
        "colab": {
          "base_uri": "https://localhost:8080/"
        },
        "id": "xc0gA1YaMwTs",
        "outputId": "1e65c21f-18ad-474e-f26d-7ac77ebb10e9"
      },
      "execution_count": 18,
      "outputs": [
        {
          "output_type": "stream",
          "name": "stdout",
          "text": [
            "最初の値は1です。\n",
            "1\n",
            "2\n",
            "3\n",
            "3\n",
            "5回目なので処理を終了します\n"
          ]
        }
      ]
    },
    {
      "cell_type": "code",
      "source": [
        "personal_data = {\"name\": \"侍太郎\", \"age\": 36, \"gender\": \"男性\"}\n",
        "\n",
        "# 連想配列personal_dataのキーと値を1つずつ順番に出力する\n",
        "for key, value in personal_data.items():\n",
        "    print(f\"{key}は{value}です。\")\n",
        "\n",
        "# 連想配列personal_dataの値を1つずつ順番に出力する\n",
        "for value in personal_data.values():\n",
        "    print(value)"
      ],
      "metadata": {
        "colab": {
          "base_uri": "https://localhost:8080/"
        },
        "id": "X5ZeDWe5NNfu",
        "outputId": "cdcfbce3-5ebf-4c73-ede4-8ff2632d1453"
      },
      "execution_count": 24,
      "outputs": [
        {
          "output_type": "stream",
          "name": "stdout",
          "text": [
            "nameは侍太郎です。\n",
            "ageは36です。\n",
            "genderは男性です。\n",
            "侍太郎\n",
            "36\n",
            "男性\n"
          ]
        }
      ]
    },
    {
      "cell_type": "code",
      "source": [
        "array = [\"水\",\"金\",\"地\",\"火\",\"木\",\"土\",\"天\",\"海\",\"冥\"]\n",
        "for day in array:\n",
        "    print(day)\n",
        "\n",
        "\n",
        "array = [\"水\",\"金\",\"地\",\"火\",\"木\",\"土\",\"天\",\"海\",\"冥\"]\n",
        "index = 0\n",
        "while index < 9:\n",
        "    print(array[index])\n",
        "    index += 1"
      ],
      "metadata": {
        "colab": {
          "base_uri": "https://localhost:8080/"
        },
        "id": "mixf1BR4R5Wa",
        "outputId": "4608a505-5560-479c-b482-edb14e04e707"
      },
      "execution_count": 30,
      "outputs": [
        {
          "output_type": "stream",
          "name": "stdout",
          "text": [
            "水\n",
            "金\n",
            "地\n",
            "火\n",
            "木\n",
            "土\n",
            "天\n",
            "海\n",
            "冥\n",
            "水\n",
            "金\n",
            "地\n",
            "火\n",
            "木\n",
            "土\n",
            "天\n",
            "海\n",
            "冥\n"
          ]
        }
      ]
    },
    {
      "cell_type": "code",
      "source": [
        "# 朝のあいさつを出力する関数を作成する\n",
        "def say_good_morning():\n",
        "    print(\"おはようございます！\")\n",
        "    print(\"昨日はよく眠れましたか？\")\n",
        "    print(\"今日も一日頑張りましょう！\")\n",
        "\n",
        "# 夜のあいさつを出力する関数を作成する\n",
        "def say_good_evening():\n",
        "    print(\"こんばんは！\")\n",
        "    print(\"今日も一日お疲れさまでした。\")\n",
        "\n",
        "# 朝のあいさつを出力する関数を呼び出す\n",
        "say_good_morning()\n",
        "\n",
        "# 夜のあいさつを出力する関数を呼び出す\n",
        "say_good_evening()\n"
      ],
      "metadata": {
        "colab": {
          "base_uri": "https://localhost:8080/"
        },
        "id": "0_1LjzGfR5Ym",
        "outputId": "045cf106-6665-4da2-8cf2-5653e9cf2df1"
      },
      "execution_count": 31,
      "outputs": [
        {
          "output_type": "stream",
          "name": "stdout",
          "text": [
            "おはようございます！\n",
            "昨日はよく眠れましたか？\n",
            "今日も一日頑張りましょう！\n",
            "こんばんは！\n",
            "今日も一日お疲れさまでした。\n"
          ]
        }
      ]
    },
    {
      "cell_type": "code",
      "source": [
        "# 与えられた引数$priceに送料を加算し、その値を出力する関数を定義する\n",
        "def calculate_total(price):\n",
        "    # 与えられた引数priceに送料を加算し、変数totalに代入する\n",
        "    total = price + 500\n",
        "\n",
        "    # 変数totalの値を出力する\n",
        "    print(f\"{total}円\")\n",
        "\n",
        "# 関数を呼び出し、引数として購入金額を渡す\n",
        "calculate_total(1200)"
      ],
      "metadata": {
        "colab": {
          "base_uri": "https://localhost:8080/"
        },
        "id": "DiwdLJC0bH3c",
        "outputId": "b64f47d8-b059-4662-f822-5d4a2f326aa3"
      },
      "execution_count": 32,
      "outputs": [
        {
          "output_type": "stream",
          "name": "stdout",
          "text": [
            "1700円\n"
          ]
        }
      ]
    },
    {
      "cell_type": "code",
      "source": [
        "def add_tax(price, tax):\n",
        "    total = price + tax\n",
        "    print(total)\n",
        "\n",
        "price = 1000\n",
        "tax = price * 0.1\n",
        "add_tax(price, tax)"
      ],
      "metadata": {
        "colab": {
          "base_uri": "https://localhost:8080/"
        },
        "id": "jnYjazYHfac9",
        "outputId": "bd7ae472-496b-4004-ae73-4f2a2d77ce68"
      },
      "execution_count": 44,
      "outputs": [
        {
          "output_type": "stream",
          "name": "stdout",
          "text": [
            "1100.0\n"
          ]
        }
      ]
    }
  ]
}