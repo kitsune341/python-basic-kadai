{
  "nbformat": 4,
  "nbformat_minor": 0,
  "metadata": {
    "colab": {
      "provenance": []
    },
    "kernelspec": {
      "name": "python3",
      "display_name": "Python 3"
    },
    "language_info": {
      "name": "python"
    }
  },
  "cells": [
    {
      "cell_type": "code",
      "execution_count": 9,
      "metadata": {
        "colab": {
          "base_uri": "https://localhost:8080/"
        },
        "id": "VgIxm7nu66c0",
        "outputId": "191baaba-4577-44b2-a8b4-3d742ce9e656"
      },
      "outputs": [
        {
          "output_type": "stream",
          "name": "stdout",
          "text": [
            "1100.0\n"
          ]
        }
      ],
      "source": [
        "def add_tax(price,tax):\n",
        "    total = price + price*tax\n",
        "    return total\n",
        "\n",
        "payment = add_tax(1000,0.1)\n",
        "print(payment)"
      ]
    }
  ]
}