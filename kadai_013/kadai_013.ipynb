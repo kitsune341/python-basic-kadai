{
 "cells": [
  {
   "cell_type": "code",
   "execution_count": 44,
   "metadata": {
    "colab": {
     "base_uri": "https://localhost:8080/"
    },
    "id": "jnYjazYHfac9",
    "outputId": "bd7ae472-496b-4004-ae73-4f2a2d77ce68"
   },
   "outputs": [
    {
     "name": "stdout",
     "output_type": "stream",
     "text": [
      "1100.0\n"
     ]
    }
   ],
   "source": [
    "def add_tax(price, tax):\n",
    "    total = price + tax\n",
    "    print(total)\n",
    "\n",
    "price = 1000\n",
    "tax = price * 0.1\n",
    "add_tax(price, tax)"
   ]
  }
 ],
 "metadata": {
  "colab": {
   "provenance": []
  },
  "kernelspec": {
   "display_name": "Python 3",
   "name": "python3"
  },
  "language_info": {
   "name": "python"
  }
 },
 "nbformat": 4,
 "nbformat_minor": 0
}
