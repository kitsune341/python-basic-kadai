{
 "cells": [
  {
   "cell_type": "code",
   "execution_count": 7,
   "metadata": {
    "colab": {
     "base_uri": "https://localhost:8080/"
    },
    "id": "zm-TWmssuvL-",
    "outputId": "b380c1d3-fa4b-4ac6-839b-97b40c0c56fc"
   },
   "outputs": [
    {
     "name": "stdout",
     "output_type": "stream",
     "text": [
      "名前: 侍太郎, 年齢: 55\n"
     ]
    }
   ],
   "source": [
    "class Human:\n",
    "    def __init__(self, name, age):\n",
    "       self.name = name\n",
    "       self.age = age\n",
    "\n",
    "    def printinfo(self):\n",
    "        print(f\"名前: {self.name}, 年齢: {self.age}\")\n",
    "\n",
    "personal = Human(\"侍太郎\", 55)\n",
    "\n",
    "personal.printinfo()"
   ]
  }
 ],
 "metadata": {
  "colab": {
   "provenance": []
  },
  "kernelspec": {
   "display_name": "Python 3",
   "name": "python3"
  },
  "language_info": {
   "name": "python"
  }
 },
 "nbformat": 4,
 "nbformat_minor": 0
}
